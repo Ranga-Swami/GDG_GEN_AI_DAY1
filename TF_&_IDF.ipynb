{
  "nbformat": 4,
  "nbformat_minor": 0,
  "metadata": {
    "colab": {
      "provenance": [],
      "authorship_tag": "ABX9TyNxSFmnAkrRLTydPGQCh4d0"
    },
    "kernelspec": {
      "name": "python3",
      "display_name": "Python 3"
    },
    "language_info": {
      "name": "python"
    }
  },
  "cells": [
    {
      "cell_type": "markdown",
      "source": [
        "## Term Frequency and Inverse Document Frequency (TF-IDF)\n",
        "\n",
        "To determine vectors , identify TF and IDF and multiply the result\n",
        "\n",
        "TF = No of repetition of words / No of words in sentences\n",
        "\n",
        "IDF = log(No of sentences / No of times word occur in a sentence)\n",
        "\n",
        "Vectors = TF * IDF"
      ],
      "metadata": {
        "id": "1__YKX36omdn"
      }
    },
    {
      "cell_type": "code",
      "execution_count": 1,
      "metadata": {
        "colab": {
          "base_uri": "https://localhost:8080/"
        },
        "id": "hrVTHfISoVMp",
        "outputId": "6a939af9-4c4e-467c-9683-9dba526f236a"
      },
      "outputs": [
        {
          "output_type": "stream",
          "name": "stderr",
          "text": [
            "[nltk_data] Downloading package punkt to /root/nltk_data...\n",
            "[nltk_data]   Unzipping tokenizers/punkt.zip.\n",
            "[nltk_data] Downloading package stopwords to /root/nltk_data...\n",
            "[nltk_data]   Unzipping corpora/stopwords.zip.\n",
            "[nltk_data] Downloading package wordnet to /root/nltk_data...\n"
          ]
        },
        {
          "output_type": "execute_result",
          "data": {
            "text/plain": [
              "True"
            ]
          },
          "metadata": {},
          "execution_count": 1
        }
      ],
      "source": [
        "import nltk\n",
        "nltk.download('punkt')\n",
        "nltk.download('stopwords')\n",
        "nltk.download('wordnet')"
      ]
    },
    {
      "cell_type": "code",
      "source": [
        "paragraph = \"\"\"\n",
        "                Ferrari’s qualifying session at the Singapore Grand Prix took a dramatic turn for the worse during the\n",
        "                final Q3 phase, with Carlos Sainz crashing out of proceedings and Charles Leclerc losing his lap time.\n",
        "                Sainz brought out the red flags in the early stages of the pole position shootout when the Spaniard lost\n",
        "                control of his car as he prepared to start a flying lap and slammed into the barriers at the final corner.\n",
        "                \"\"\""
      ],
      "metadata": {
        "id": "zLvREnvuo56z"
      },
      "execution_count": 2,
      "outputs": []
    },
    {
      "cell_type": "code",
      "source": [
        "from nltk.stem import WordNetLemmatizer\n",
        "from nltk.corpus import stopwords\n",
        "lemma = WordNetLemmatizer()\n",
        "sentence = nltk.sent_tokenize(paragraph)"
      ],
      "metadata": {
        "id": "wGMij5L8o59V"
      },
      "execution_count": 3,
      "outputs": []
    },
    {
      "cell_type": "code",
      "source": [
        "import re #regular expression\n",
        "corpus = [] # corpus list\n",
        "for i in range(len(sentence)):\n",
        "    rev = re.sub('[^a-zA-Z]', ' ', sentence[i])\n",
        "    rev = rev.lower()\n",
        "    rev = rev.split()\n",
        "    rev = [lemma.lemmatize(word) for word in rev if not word in set(stopwords.words('english'))]\n",
        "    rev = ' '.join(rev)\n",
        "    corpus.append(rev)"
      ],
      "metadata": {
        "id": "LaVjYswdo6ED"
      },
      "execution_count": 4,
      "outputs": []
    },
    {
      "cell_type": "code",
      "source": [
        "from sklearn.feature_extraction.text import TfidfVectorizer\n",
        "tfv = TfidfVectorizer()\n",
        "X = tfv.fit_transform(corpus).toarray()"
      ],
      "metadata": {
        "id": "9_gKzdyepsVq"
      },
      "execution_count": 6,
      "outputs": []
    },
    {
      "cell_type": "code",
      "source": [
        "X"
      ],
      "metadata": {
        "colab": {
          "base_uri": "https://localhost:8080/"
        },
        "id": "1qja05aCpsYg",
        "outputId": "7f82a317-04b8-4e36-9d9f-98b8e6115ead"
      },
      "execution_count": 7,
      "outputs": [
        {
          "output_type": "execute_result",
          "data": {
            "text/plain": [
              "array([[0.        , 0.        , 0.        , 0.22634672, 0.22634672,\n",
              "        0.        , 0.        , 0.22634672, 0.22634672, 0.        ,\n",
              "        0.22634672, 0.16104755, 0.        , 0.        , 0.22634672,\n",
              "        0.16104755, 0.22634672, 0.22634672, 0.        , 0.22634672,\n",
              "        0.        , 0.        , 0.        , 0.22634672, 0.22634672,\n",
              "        0.22634672, 0.        , 0.16104755, 0.22634672, 0.        ,\n",
              "        0.22634672, 0.        , 0.        , 0.        , 0.        ,\n",
              "        0.22634672, 0.22634672, 0.22634672, 0.22634672],\n",
              "       [0.22634672, 0.22634672, 0.22634672, 0.        , 0.        ,\n",
              "        0.22634672, 0.22634672, 0.        , 0.        , 0.22634672,\n",
              "        0.        , 0.16104755, 0.22634672, 0.22634672, 0.        ,\n",
              "        0.16104755, 0.        , 0.        , 0.22634672, 0.        ,\n",
              "        0.22634672, 0.22634672, 0.22634672, 0.        , 0.        ,\n",
              "        0.        , 0.22634672, 0.16104755, 0.        , 0.22634672,\n",
              "        0.        , 0.22634672, 0.22634672, 0.22634672, 0.22634672,\n",
              "        0.        , 0.        , 0.        , 0.        ]])"
            ]
          },
          "metadata": {},
          "execution_count": 7
        }
      ]
    }
  ]
}