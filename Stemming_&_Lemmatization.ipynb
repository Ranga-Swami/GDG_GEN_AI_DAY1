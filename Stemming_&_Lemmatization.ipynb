{
  "nbformat": 4,
  "nbformat_minor": 0,
  "metadata": {
    "colab": {
      "provenance": [],
      "authorship_tag": "ABX9TyPQJ9xJuqMaC7Avc+OMnFXr"
    },
    "kernelspec": {
      "name": "python3",
      "display_name": "Python 3"
    },
    "language_info": {
      "name": "python"
    }
  },
  "cells": [
    {
      "cell_type": "code",
      "execution_count": 1,
      "metadata": {
        "colab": {
          "base_uri": "https://localhost:8080/"
        },
        "id": "3ohOD57FSCTk",
        "outputId": "8b8082de-d86d-4576-a1b6-c389faafdd6f"
      },
      "outputs": [
        {
          "output_type": "stream",
          "name": "stderr",
          "text": [
            "[nltk_data] Downloading package punkt to /root/nltk_data...\n",
            "[nltk_data]   Unzipping tokenizers/punkt.zip.\n"
          ]
        },
        {
          "output_type": "execute_result",
          "data": {
            "text/plain": [
              "True"
            ]
          },
          "metadata": {},
          "execution_count": 1
        }
      ],
      "source": [
        "import nltk\n",
        "from nltk.stem import PorterStemmer\n",
        "from nltk.corpus import stopwords\n",
        "nltk.download('punkt')"
      ]
    },
    {
      "cell_type": "code",
      "source": [
        "paragraph = \"\"\"\n",
        "                Ferrari endured a disastrous end to qualifying when Sainz hit the wall at the final corner as he prepared to\n",
        "                start a lap, putting him 10th, with Charles Leclerc only ninth thanks to his time being deleted for exceeding\n",
        "                track limits.\n",
        "                Nico Hulkenberg was a fine sixth for Haas in another trademark qualifying performance from the German,\n",
        "                while Aston Martin’s Fernando Alonso and RB’s Yuki Tsunoda also capitalised on the Scuderia’s troubles\n",
        "                to finish P7 and P8.\n",
        "                \"\"\""
      ],
      "metadata": {
        "id": "70-ZOA18Sd5K"
      },
      "execution_count": 2,
      "outputs": []
    },
    {
      "cell_type": "code",
      "source": [
        "nltk.download('stopwords')"
      ],
      "metadata": {
        "colab": {
          "base_uri": "https://localhost:8080/"
        },
        "id": "sK2xc8YOTiul",
        "outputId": "20589819-1772-4da8-9d77-7e720caeaf9e"
      },
      "execution_count": 3,
      "outputs": [
        {
          "output_type": "stream",
          "name": "stderr",
          "text": [
            "[nltk_data] Downloading package stopwords to /root/nltk_data...\n",
            "[nltk_data]   Unzipping corpora/stopwords.zip.\n"
          ]
        },
        {
          "output_type": "execute_result",
          "data": {
            "text/plain": [
              "True"
            ]
          },
          "metadata": {},
          "execution_count": 3
        }
      ]
    },
    {
      "cell_type": "code",
      "source": [
        "#tokenize into sentences\n",
        "sentences = nltk.sent_tokenize(paragraph)\n",
        "print(len(sentences))\n",
        "# define the object for stemming\n",
        "stemmer = PorterStemmer()"
      ],
      "metadata": {
        "colab": {
          "base_uri": "https://localhost:8080/"
        },
        "id": "hBfGmjcnTix-",
        "outputId": "62c85473-562e-4861-b458-d94d4092db8a"
      },
      "execution_count": 4,
      "outputs": [
        {
          "output_type": "stream",
          "name": "stdout",
          "text": [
            "2\n"
          ]
        }
      ]
    },
    {
      "cell_type": "markdown",
      "source": [
        "##Porter Stemmer\n",
        "\n",
        "The default stemmer in NLTK, and the most popular stemming algorithm. It's based on simple rules and is good for large-scale NLP tasks that need speed.\n",
        "\n",
        "##Snowball Stemmer\n",
        "\n",
        "An improved version of the Porter Stemmer that can stem texts in multiple Roman script languages, including English, Dutch, German, French, and Russian.\n",
        "\n",
        "##Lancaster Stemmer\n",
        "\n",
        "One of the fastest stemming algorithms, but it can obfuscate short words and tends to over stem a lot of words."
      ],
      "metadata": {
        "id": "dPCz4IPuUSEb"
      }
    },
    {
      "cell_type": "code",
      "source": [
        "# Stemming\n",
        "for i in range(len(sentences)):\n",
        "    words = nltk.word_tokenize(sentences[i])\n",
        "    words = [stemmer.stem(word) for word in words if word not in set(stopwords.words('english'))]\n",
        "    sentences[i] = ' '.join(words)"
      ],
      "metadata": {
        "id": "_kMoV8nXURgn"
      },
      "execution_count": 5,
      "outputs": []
    },
    {
      "cell_type": "code",
      "source": [
        "sentences"
      ],
      "metadata": {
        "colab": {
          "base_uri": "https://localhost:8080/"
        },
        "id": "ZO_NfmfuTvF4",
        "outputId": "f7f83bed-5659-42ed-82be-b826d1f3565b"
      },
      "execution_count": 6,
      "outputs": [
        {
          "output_type": "execute_result",
          "data": {
            "text/plain": [
              "['ferrari endur disastr end qualifi sainz hit wall final corner prepar start lap , put 10th , charl leclerc ninth thank time delet exceed track limit .',\n",
              " 'nico hulkenberg fine sixth haa anoth trademark qualifi perform german , aston martin ’ fernando alonso rb ’ yuki tsunoda also capitalis scuderia ’ troubl finish p7 p8 .']"
            ]
          },
          "metadata": {},
          "execution_count": 6
        }
      ]
    },
    {
      "cell_type": "markdown",
      "source": [
        "## Lemmatization"
      ],
      "metadata": {
        "id": "mO6U-q17VH1k"
      }
    },
    {
      "cell_type": "code",
      "source": [
        "nltk.download('wordnet')"
      ],
      "metadata": {
        "colab": {
          "base_uri": "https://localhost:8080/"
        },
        "id": "gg1maUDJTvrW",
        "outputId": "26ba6379-bf0d-4dfb-ae16-7ac4d494f16d"
      },
      "execution_count": 7,
      "outputs": [
        {
          "output_type": "stream",
          "name": "stderr",
          "text": [
            "[nltk_data] Downloading package wordnet to /root/nltk_data...\n"
          ]
        },
        {
          "output_type": "execute_result",
          "data": {
            "text/plain": [
              "True"
            ]
          },
          "metadata": {},
          "execution_count": 7
        }
      ]
    },
    {
      "cell_type": "code",
      "source": [
        "from nltk.stem import WordNetLemmatizer\n",
        "from nltk.corpus import stopwords\n",
        "lemma = WordNetLemmatizer()"
      ],
      "metadata": {
        "id": "1bZ4injGU0rL"
      },
      "execution_count": 8,
      "outputs": []
    },
    {
      "cell_type": "code",
      "source": [
        "sentences_lem = nltk.sent_tokenize(paragraph)\n",
        "# Lemmatization\n",
        "for i in range(len(sentences_lem)):\n",
        "    words = nltk.word_tokenize(sentences_lem[i])\n",
        "    words = [lemma.lemmatize(word) for word in words if word not in set(stopwords.words('english'))]\n",
        "    sentences_lem[i] = ' '.join(words)"
      ],
      "metadata": {
        "id": "klS8ORmeTvz8"
      },
      "execution_count": 9,
      "outputs": []
    },
    {
      "cell_type": "code",
      "source": [
        "sentences_lem #meaningful words will be present as a result of lemmatization"
      ],
      "metadata": {
        "colab": {
          "base_uri": "https://localhost:8080/"
        },
        "id": "mPaNjFASVCTu",
        "outputId": "98300000-e29d-4566-fc51-60dc5b26c3da"
      },
      "execution_count": 10,
      "outputs": [
        {
          "output_type": "execute_result",
          "data": {
            "text/plain": [
              "['Ferrari endured disastrous end qualifying Sainz hit wall final corner prepared start lap , putting 10th , Charles Leclerc ninth thanks time deleted exceeding track limit .',\n",
              " 'Nico Hulkenberg fine sixth Haas another trademark qualifying performance German , Aston Martin ’ Fernando Alonso RB ’ Yuki Tsunoda also capitalised Scuderia ’ trouble finish P7 P8 .']"
            ]
          },
          "metadata": {},
          "execution_count": 10
        }
      ]
    }
  ]
}