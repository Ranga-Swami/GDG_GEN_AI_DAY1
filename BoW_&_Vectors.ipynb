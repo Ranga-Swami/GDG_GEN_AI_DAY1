{
  "nbformat": 4,
  "nbformat_minor": 0,
  "metadata": {
    "colab": {
      "provenance": [],
      "authorship_tag": "ABX9TyOjTl1rsWxCb0bTpitUt3Rm"
    },
    "kernelspec": {
      "name": "python3",
      "display_name": "Python 3"
    },
    "language_info": {
      "name": "python"
    }
  },
  "cells": [
    {
      "cell_type": "code",
      "execution_count": 1,
      "metadata": {
        "colab": {
          "base_uri": "https://localhost:8080/"
        },
        "id": "qScB_7g5hHjc",
        "outputId": "5decea12-40b7-4ed8-fec2-28986c515286"
      },
      "outputs": [
        {
          "output_type": "stream",
          "name": "stderr",
          "text": [
            "[nltk_data] Downloading package punkt to /root/nltk_data...\n",
            "[nltk_data]   Unzipping tokenizers/punkt.zip.\n"
          ]
        },
        {
          "output_type": "execute_result",
          "data": {
            "text/plain": [
              "True"
            ]
          },
          "metadata": {},
          "execution_count": 1
        }
      ],
      "source": [
        "import nltk\n",
        "nltk.download('punkt')"
      ]
    },
    {
      "cell_type": "code",
      "source": [
        "from nltk.corpus import stopwords\n",
        "from nltk.stem import PorterStemmer\n",
        "from nltk.stem import WordNetLemmatizer"
      ],
      "metadata": {
        "id": "C07DVdgLmBj8"
      },
      "execution_count": 2,
      "outputs": []
    },
    {
      "cell_type": "code",
      "source": [
        "nltk.download('stopwords')"
      ],
      "metadata": {
        "colab": {
          "base_uri": "https://localhost:8080/"
        },
        "id": "vl8HytaamBu5",
        "outputId": "6dc788c5-9321-4864-8452-d2e0eac49065"
      },
      "execution_count": 3,
      "outputs": [
        {
          "output_type": "stream",
          "name": "stderr",
          "text": [
            "[nltk_data] Downloading package stopwords to /root/nltk_data...\n",
            "[nltk_data]   Unzipping corpora/stopwords.zip.\n"
          ]
        },
        {
          "output_type": "execute_result",
          "data": {
            "text/plain": [
              "True"
            ]
          },
          "metadata": {},
          "execution_count": 3
        }
      ]
    },
    {
      "cell_type": "code",
      "source": [
        "paragraph = \"\"\"\n",
        "                Ferrari endured a disastrous end to qualifying when Sainz hit the wall at the final corner as he prepared to\n",
        "                start a lap, putting him 10th, with Charles Leclerc only ninth thanks to his time being deleted for exceeding\n",
        "                track limits.\n",
        "                Nico Hulkenberg was a fine sixth for Haas in another trademark qualifying performance from the German,\n",
        "                while Aston Martin’s Fernando Alonso and RB’s Yuki Tsunoda also capitalised on the Scuderia’s troubles\n",
        "                to finish P7 and P8.\n",
        "                \"\"\""
      ],
      "metadata": {
        "id": "3GyH4POjmBzZ"
      },
      "execution_count": 4,
      "outputs": []
    },
    {
      "cell_type": "code",
      "source": [
        "\n",
        "stemmer = PorterStemmer()\n",
        "lemma = WordNetLemmatizer()\n",
        "sentence = nltk.sent_tokenize(paragraph)\n",
        "sentence"
      ],
      "metadata": {
        "colab": {
          "base_uri": "https://localhost:8080/"
        },
        "id": "4ElbL__smB16",
        "outputId": "1c5296d2-2162-4f7c-bad1-e508986705ec"
      },
      "execution_count": 5,
      "outputs": [
        {
          "output_type": "execute_result",
          "data": {
            "text/plain": [
              "['\\n                Ferrari endured a disastrous end to qualifying when Sainz hit the wall at the final corner as he prepared to\\n                start a lap, putting him 10th, with Charles Leclerc only ninth thanks to his time being deleted for exceeding\\n                track limits.',\n",
              " 'Nico Hulkenberg was a fine sixth for Haas in another trademark qualifying performance from the German,\\n                while Aston Martin’s Fernando Alonso and RB’s Yuki Tsunoda also capitalised on the Scuderia’s troubles\\n                to finish P7 and P8.']"
            ]
          },
          "metadata": {},
          "execution_count": 5
        }
      ]
    },
    {
      "cell_type": "code",
      "source": [
        "import re\n",
        "corpus = []\n",
        "\n",
        "for i in range(len(sentence)):\n",
        "    rev = re.sub('[^a-zA-Z]', ' ', sentence[i])\n",
        "    rev = rev.lower()\n",
        "    rev = rev.split()\n",
        "    rev = [stemmer.stem(word) for word in rev if not word in set(stopwords.words('english'))]\n",
        "    rev = ' '.join(rev)\n",
        "    corpus.append(rev)"
      ],
      "metadata": {
        "id": "mlOEXw8mmzOa"
      },
      "execution_count": 6,
      "outputs": []
    },
    {
      "cell_type": "code",
      "source": [
        "corpus"
      ],
      "metadata": {
        "colab": {
          "base_uri": "https://localhost:8080/"
        },
        "id": "6jOegqA7mzRo",
        "outputId": "2bc7896b-d643-40fe-f126-4694f433ae25"
      },
      "execution_count": 7,
      "outputs": [
        {
          "output_type": "execute_result",
          "data": {
            "text/plain": [
              "['ferrari endur disastr end qualifi sainz hit wall final corner prepar start lap put th charl leclerc ninth thank time delet exceed track limit',\n",
              " 'nico hulkenberg fine sixth haa anoth trademark qualifi perform german aston martin fernando alonso rb yuki tsunoda also capitalis scuderia troubl finish p p']"
            ]
          },
          "metadata": {},
          "execution_count": 7
        }
      ]
    },
    {
      "cell_type": "code",
      "source": [
        "from sklearn.feature_extraction.text import CountVectorizer\n",
        "cv = CountVectorizer(max_features = 1500)\n",
        "X = cv.fit_transform(corpus).toarray()"
      ],
      "metadata": {
        "id": "Wxnm_lRIn2a4"
      },
      "execution_count": 8,
      "outputs": []
    },
    {
      "cell_type": "code",
      "source": [
        "X"
      ],
      "metadata": {
        "colab": {
          "base_uri": "https://localhost:8080/"
        },
        "id": "jklx-fjtn2j-",
        "outputId": "be388d3c-dc99-4eb8-9f1d-1e3fee695177"
      },
      "execution_count": 9,
      "outputs": [
        {
          "output_type": "execute_result",
          "data": {
            "text/plain": [
              "array([[0, 0, 0, 0, 0, 1, 1, 1, 1, 1, 1, 1, 0, 1, 1, 0, 0, 0, 0, 1, 0, 1,\n",
              "        1, 1, 0, 0, 1, 0, 1, 1, 1, 0, 1, 0, 0, 1, 1, 1, 1, 1, 0, 0, 0, 1,\n",
              "        0],\n",
              "       [1, 1, 1, 1, 1, 0, 0, 0, 0, 0, 0, 0, 1, 0, 0, 1, 1, 1, 1, 0, 1, 0,\n",
              "        0, 0, 1, 1, 0, 1, 0, 0, 1, 1, 0, 1, 1, 0, 0, 0, 0, 0, 1, 1, 1, 0,\n",
              "        1]])"
            ]
          },
          "metadata": {},
          "execution_count": 9
        }
      ]
    }
  ]
}